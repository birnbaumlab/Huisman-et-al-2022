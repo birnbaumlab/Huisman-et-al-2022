{
 "cells": [
  {
   "cell_type": "markdown",
   "metadata": {},
   "source": [
    "Example code for encoding protein sequences probabilistically based on codon usage"
   ]
  },
  {
   "cell_type": "code",
   "execution_count": 1,
   "metadata": {},
   "outputs": [],
   "source": [
    "import numpy as np\n",
    "import pandas as pd"
   ]
  },
  {
   "cell_type": "code",
   "execution_count": 2,
   "metadata": {},
   "outputs": [],
   "source": [
    "fname_in = 'nCov_proteome_15mers+SARS-CoV-1 N+S.csv'"
   ]
  },
  {
   "cell_type": "code",
   "execution_count": 3,
   "metadata": {},
   "outputs": [],
   "source": [
    "#Codon usage of yeast: https://www.genscript.com/tools/codon-frequency-table\n",
    "\n",
    "#Selecting codons based on amino acid.  Follow format of:\n",
    "########\n",
    "#def AminoAcid():\n",
    "#   out = np.random.choice(['dna1','dna2',etc], p=[prob_dna1, prob_dna2, etc])\n",
    "#   return out\n",
    "########\n",
    "\n",
    "def aa_A():\n",
    "    codon = np.random.choice(['GCT','GCC','GCA','GCG'], p=[0.38, 0.22, 0.29, 0.11])\n",
    "    return codon\n",
    "\n",
    "def aa_C():\n",
    "    codon = np.random.choice(['TGT', 'TGC'], p=[0.63,0.37])\n",
    "    return codon\n",
    "\n",
    "def aa_D():\n",
    "    codon = np.random.choice(['GAT','GAC'], p=[0.65,0.35])\n",
    "    return codon\n",
    "\n",
    "def aa_E():\n",
    "    codon = np.random.choice(['GAA','GAG'], p=[0.71,0.29])\n",
    "    return codon\n",
    "\n",
    "def aa_F():\n",
    "    codon = np.random.choice(['TTT','TTC'], p=[0.59,0.41])\n",
    "    return codon\n",
    "\n",
    "def aa_G():\n",
    "    codon = np.random.choice(['GGT','GGC','GGA','GGG'], p=[0.47,0.19,0.22,0.12])\n",
    "    return codon\n",
    "\n",
    "def aa_H():\n",
    "    codon = np.random.choice(['CAT','CAC'], p=[0.64, 0.36])\n",
    "    return codon\n",
    "\n",
    "def aa_I():\n",
    "    codon = np.random.choice(['ATT','ATC','ATA'], p=[0.464,0.263,0.273])\n",
    "    return codon\n",
    "\n",
    "def aa_K():\n",
    "    codon = np.random.choice(['AAA','AAG'], p=[0.58,0.42])\n",
    "    return codon\n",
    "\n",
    "def aa_L():\n",
    "    codon = np.random.choice(['TTA','TTG','CTT','CTC','CTA','CTG'], p=[0.2782,0.2856,0.1286,0.0569,0.1412,0.1095])\n",
    "    return codon\n",
    "\n",
    "def aa_M():\n",
    "    codon = np.random.choice(['ATG'], p=[1])\n",
    "    return codon\n",
    "\n",
    "def aa_N():\n",
    "    codon = np.random.choice(['AAT','AAC'], p=[0.59,0.41])\n",
    "    return codon\n",
    "\n",
    "def aa_P():\n",
    "    codon = np.random.choice(['CCT','CCC','CCA','CCG'], p=[0.3098,0.1549,0.4146,0.1207])\n",
    "    return codon\n",
    "\n",
    "def aa_Q():\n",
    "    codon = np.random.choice(['CAA','CAG'], p=[0.69,0.31])\n",
    "    return codon\n",
    "\n",
    "def aa_R():\n",
    "    codon = np.random.choice(['CGT','CGC','CGA','CGG','AGA','AGG'], p=[0.1467,0.0587,0.0677,0.0384,0.4808,0.2077])\n",
    "    return codon\n",
    "\n",
    "def aa_S():\n",
    "    codon = np.random.choice(['TCT','TCC','TCA','TCG','AGT','AGC'], p=[0.26,0.16,0.21,0.1,0.16,0.11])\n",
    "    return codon\n",
    "\n",
    "def aa_T():\n",
    "    codon = np.random.choice(['ACT','ACC','ACA','ACG'], p=[0.35,0.22,0.3,0.13])\n",
    "    return codon\n",
    "\n",
    "def aa_V():\n",
    "    codon = np.random.choice(['GTT','GTC','GTA','GTG'], p=[0.39,0.21,0.21,0.19])\n",
    "    return codon\n",
    "\n",
    "def aa_W():\n",
    "    codon = np.random.choice(['TGG'], p=[1])\n",
    "    return codon\n",
    "\n",
    "def aa_Y():\n",
    "    codon = np.random.choice(['TAT','TAC'], p=[0.56,0.44])\n",
    "    return codon"
   ]
  },
  {
   "cell_type": "code",
   "execution_count": 4,
   "metadata": {},
   "outputs": [],
   "source": [
    "aa_2_dna = {    \n",
    "    'A': aa_A,\n",
    "    'C': aa_C,\n",
    "    'D': aa_D,\n",
    "    'E': aa_E,\n",
    "    'F': aa_F,\n",
    "    'G': aa_G,\n",
    "    'H': aa_H,\n",
    "    'I': aa_I,\n",
    "    'K': aa_K,\n",
    "    'L': aa_L,\n",
    "    'M': aa_M,\n",
    "    'N': aa_N,\n",
    "    'P': aa_P,\n",
    "    'Q': aa_Q,\n",
    "    'R': aa_R,\n",
    "    'S': aa_S,\n",
    "    'T': aa_T,\n",
    "    'V': aa_V,\n",
    "    'W': aa_W,\n",
    "    'Y': aa_Y\n",
    "    }"
   ]
  },
  {
   "cell_type": "code",
   "execution_count": 5,
   "metadata": {},
   "outputs": [],
   "source": [
    "np.random.seed(100)\n",
    "def revtrans(seq):\n",
    "    dna_list = [aa_2_dna[x]() for x in seq] # reverse translate\n",
    "    dna=''.join(dna_list) #puts letters into string\n",
    "    return dna"
   ]
  },
  {
   "cell_type": "code",
   "execution_count": 6,
   "metadata": {},
   "outputs": [],
   "source": [
    "def encode(fname_in):\n",
    "    #read in peptides and positive control peptides\n",
    "    fname_out = fname_in.strip('.csv')+'_encoded.csv'\n",
    "     \n",
    "    df = pd.read_csv(fname_in) #library peptides\n",
    "    all_peptides = df['15mers'].values.tolist()\n",
    "\n",
    "    #encode peptides\n",
    "    dna_seqs = []\n",
    "    aa_seqs = []\n",
    "    \n",
    "    #Go through each peptide. Encode each peptide.\n",
    "    for line in all_peptides:\n",
    "        seq = line.strip()\n",
    "        \n",
    "        dna = revtrans(seq)\n",
    "        dna = 'GTTATTGCTAGCGTTTTGGCAGCT'+dna+'GGTGGATCCGGTGGCGGA'\n",
    "        \n",
    "        dna_seqs.append(dna)\n",
    "        aa_seqs.append(seq)\n",
    "\n",
    "    #save encoded peptides\n",
    "    df = pd.DataFrame({'aa':aa_seqs,'dna':dna_seqs})\n",
    "    df.to_csv(fname_out, index=False)"
   ]
  },
  {
   "cell_type": "code",
   "execution_count": 7,
   "metadata": {},
   "outputs": [],
   "source": [
    "encode(fname_in)"
   ]
  },
  {
   "cell_type": "code",
   "execution_count": null,
   "metadata": {},
   "outputs": [],
   "source": []
  }
 ],
 "metadata": {
  "kernelspec": {
   "display_name": "Python 3",
   "language": "python",
   "name": "python3"
  },
  "language_info": {
   "codemirror_mode": {
    "name": "ipython",
    "version": 3
   },
   "file_extension": ".py",
   "mimetype": "text/x-python",
   "name": "python",
   "nbconvert_exporter": "python",
   "pygments_lexer": "ipython3",
   "version": "3.7.3"
  }
 },
 "nbformat": 4,
 "nbformat_minor": 2
}
